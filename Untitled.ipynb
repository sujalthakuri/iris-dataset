{
 "cells": [
  {
   "cell_type": "code",
   "execution_count": 2,
   "id": "b86f56a7",
   "metadata": {},
   "outputs": [
    {
     "name": "stdout",
     "output_type": "stream",
     "text": [
      "Model fitted? True\n",
      "X_train type: <class 'pandas.core.frame.DataFrame'>\n",
      "X_train shape: (120, 4)\n",
      "y_train_transformed shape: (120,)\n",
      "y_train_transformed type: <class 'numpy.ndarray'>\n"
     ]
    },
    {
     "data": {
      "text/plain": [
       "SepalLengthCm    float64\n",
       "SepalWidthCm     float64\n",
       "PetalLengthCm    float64\n",
       "PetalWidthCm     float64\n",
       "dtype: object"
      ]
     },
     "execution_count": 2,
     "metadata": {},
     "output_type": "execute_result"
    }
   ],
   "source": [
    "import pandas as pd\n",
    "import numpy as np\n",
    "import matplotlib.pyplot as plt\n",
    "import seaborn as sns\n",
    "\n",
    "from sklearn.preprocessing import StandardScaler\n",
    "from sklearn.preprocessing import LabelEncoder\n",
    "\n",
    "from sklearn.model_selection import train_test_split\n",
    "from sklearn.linear_model import LogisticRegression\n",
    "\n",
    "df = pd.read_csv('iris.csv')\n",
    "\n",
    "df.head()\n",
    "\n",
    "\n",
    "df.describe()\n",
    "\n",
    "df.isnull().sum()\n",
    "\n",
    "df.shape\n",
    "\n",
    "df['Species'].unique()\n",
    "\n",
    "df = df.drop(\"Id\", axis=1)\n",
    "\n",
    "X = df.drop(\"Species\", axis=1)\n",
    "y = df.iloc[:, -1]\n",
    "\n",
    "X_train, X_test, y_train, y_test = train_test_split(X, y, test_size = 0.2, random_state = 42)\n",
    "\n",
    "label_encoder = LabelEncoder()\n",
    "\n",
    "y_train_transformed = label_encoder.fit_transform(y_train)\n",
    "\n",
    "\n",
    "X_train.shape\n",
    "\n",
    "y_train_transformed.shape\n",
    "\n",
    "y_train_transformed\n",
    "\n",
    "lr = LogisticRegression()\n",
    "\n",
    "lr.fit(X_train, y_train_transformed)\n",
    "\n",
    "\n",
    "print(\"Model fitted?\", hasattr(lr, \"coef_\"))  # Should print True if fitted\n",
    "\n",
    "\n",
    "y_pred = lr.predict(X_test)\n",
    "\n",
    "print(\"X_train type:\", type(X_train))\n",
    "print(\"X_train shape:\", X_train.shape)\n",
    "\n",
    "print(\"y_train_transformed shape:\", y_train_transformed.shape)\n",
    "print(\"y_train_transformed type:\", type(y_train_transformed))\n",
    "\n",
    "X_train.dtypes"
   ]
  },
  {
   "cell_type": "code",
   "execution_count": null,
   "id": "84cd3e47",
   "metadata": {},
   "outputs": [],
   "source": []
  }
 ],
 "metadata": {
  "kernelspec": {
   "display_name": "Python 3 (ipykernel)",
   "language": "python",
   "name": "python3"
  },
  "language_info": {
   "codemirror_mode": {
    "name": "ipython",
    "version": 3
   },
   "file_extension": ".py",
   "mimetype": "text/x-python",
   "name": "python",
   "nbconvert_exporter": "python",
   "pygments_lexer": "ipython3",
   "version": "3.9.5"
  }
 },
 "nbformat": 4,
 "nbformat_minor": 5
}
